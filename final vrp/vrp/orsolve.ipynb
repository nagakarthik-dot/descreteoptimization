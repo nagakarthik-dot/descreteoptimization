{
 "cells": [
  {
   "cell_type": "code",
   "execution_count": 1,
   "metadata": {},
   "outputs": [],
   "source": [
    "import math\n",
    "from collections import namedtuple\n",
    "from ortools.linear_solver import pywraplp\n",
    "\n",
    "Customer = namedtuple(\"Customer\", ['index', 'demand', 'x', 'y'])\n"
   ]
  },
  {
   "cell_type": "code",
   "execution_count": 2,
   "metadata": {},
   "outputs": [],
   "source": [
    "with open(\"./data/vrp_26_8_1\", \"r\") as file:\n",
    "    input_data = file.read()\n",
    "lines = input_data.split('\\n')\n",
    "parts = lines[0].split()\n",
    "customer_count = int(parts[0])\n",
    "vehicle_count = int(parts[1])\n",
    "vehicle_capacity = int(parts[2])\n",
    "\n",
    "customers = []\n",
    "for i in range(1, customer_count + 1):\n",
    "    line = lines[i]\n",
    "    parts = line.split()\n",
    "    customers.append(Customer(i - 1, int(parts[0]), float(parts[1]), float(parts[2])))\n",
    "\n"
   ]
  },
  {
   "cell_type": "code",
   "execution_count": 3,
   "metadata": {},
   "outputs": [],
   "source": [
    "solver = pywraplp.Solver.CreateSolver('SCIP')\n",
    "if not solver:\n",
    "    raise Exception('Solver not created.')\n",
    "x = {}\n",
    "y = {}\n",
    "###vehicle k travels from i to j\n",
    "for i in range(customer_count):\n",
    "    for j in range(customer_count):\n",
    "        if i != j:\n",
    "            for k in range(vehicle_count):\n",
    "                x[i, j, k] = solver.BoolVar(f'x_{i}_{j}_{k}')\n",
    "## i is served by k vehicle\n",
    "for i in range(customer_count):\n",
    "    for k in range(vehicle_count):\n",
    "        y[i, k] = solver.BoolVar(f'y_{i}_{k}')\n",
    "###  each customer is vsited only once \n",
    "for i in range(1, customer_count):  \n",
    "    solver.Add(sum(y[i, k] for k in range(vehicle_count)) == 1)\n",
    "\n",
    "for k in range(vehicle_count):\n",
    "    for i in range(customer_count):\n",
    "        solver.Add(sum(x[i, j, k] for j in range(customer_count) if i != j) == y[i, k])    ###  if vehicle k travels form i to j it should have served i\n",
    "        solver.Add(sum(x[j, i, k] for j in range(customer_count) if i != j) == y[i, k])    ###  if vehicle k visits j to i it should be able to serve i\n",
    "\n",
    "for k in range(vehicle_count):\n",
    "    solver.Add(sum(customers[i].demand * y[i, k] for i in range(1, customer_count)) <= vehicle_capacity)  ### the customers demand served by veg=hicel should not exceed the capacity\n",
    "for k in range(vehicle_count):\n",
    "    solver.Add(sum(x[0, j, k] for j in range(1, customer_count)) == 1)  ### vehicel leaving the depot by vehicle k should be one \n",
    "for k in range(vehicle_count):\n",
    "    solver.Add(sum(x[j, 0, k] for j in range(1, customer_count)) == 1)   ### same as entering the depot \n",
    "\n",
    " ### position of customer i in vehicle k route \n",
    "\n",
    "for i in range(1, customer_count):\n",
    "    for j in range(1, customer_count):\n",
    "        if i != j:\n",
    "            for k in range(vehicle_count):\n",
    "                solver.Add(u[i, k] - u[j, k] + customer_count * x[i, j, k] <= customer_count - 1)   ### subtour constarint \n",
    "\n",
    "objective = solver.Sum(\n",
    "    math.sqrt((customers[i].x - customers[j].x) ** 2 + (customers[i].y - customers[j].y) ** 2) * x[i, j, k]\n",
    "    for i in range(customer_count) for j in range(customer_count) for k in range(vehicle_count) if i != j\n",
    ")\n",
    "solver.Minimize(objective)\n",
    "status = solver.Solve()\n",
    "if status == pywraplp.Solver.OPTIMAL:\n",
    "    print('Solution found:')\n",
    "    print(f'Objective value = {solver.Objective().Value()}')\n",
    "    for k in range(vehicle_count):\n",
    "        route = []\n",
    "        for i in range(customer_count):\n",
    "            for j in range(customer_count):\n",
    "                if i != j and x[i, j, k].solution_value() > 0.5:\n",
    "                    route.append((i, j))\n",
    "        print(f'Route for vehicle {k}: {route}')\n",
    "else:\n",
    "    print('No optimal solution found.')\n"
   ]
  }
 ],
 "metadata": {
  "kernelspec": {
   "display_name": "Python 3",
   "language": "python",
   "name": "python3"
  },
  "language_info": {
   "codemirror_mode": {
    "name": "ipython",
    "version": 3
   },
   "file_extension": ".py",
   "mimetype": "text/x-python",
   "name": "python",
   "nbconvert_exporter": "python",
   "pygments_lexer": "ipython3",
   "version": "3.11.9"
  }
 },
 "nbformat": 4,
 "nbformat_minor": 2
}
